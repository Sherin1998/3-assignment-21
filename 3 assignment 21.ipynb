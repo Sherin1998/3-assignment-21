{
 "cells": [
  {
   "cell_type": "code",
   "execution_count": 28,
   "metadata": {},
   "outputs": [
    {
     "name": "stdout",
     "output_type": "stream",
     "text": [
      "List size5\n",
      "1\n",
      "2\n",
      "3\n",
      "4\n",
      "5\n",
      "Element to insert1\n",
      "[2, 3, 4, 5, 1]\n"
     ]
    }
   ],
   "source": [
    "#1\n",
    "def next_in_line(l,y):\n",
    "    if(len(l)==0):\n",
    "        print('No list has been selected')\n",
    "    else:\n",
    "        l.remove(l[0])\n",
    "        l.append(y)\n",
    "        return l\n",
    "x=int(input('List size'))\n",
    "l=[]\n",
    "for i in range(x):\n",
    "    l.append(int(input()))\n",
    "y=int(input('Element to insert'))\n",
    "print(next_in_line(l,y))\n",
    "                                                        #[7,6,3,23,17],\n"
   ]
  },
  {
   "cell_type": "code",
   "execution_count": 79,
   "metadata": {},
   "outputs": [
    {
     "name": "stdout",
     "output_type": "stream",
     "text": [
      "65700\n"
     ]
    }
   ],
   "source": [
    "#2\n",
    "def get_budgets(l):\n",
    "    sum=0\n",
    "    for i in l:\n",
    "           for j in i.items():\n",
    "                if(j[0]=='budget'):\n",
    "                    sum+=(j[1])\n",
    "                \n",
    "    return sum\n",
    "\n",
    "l=[{ 'name': 'John','age': 21,'budget':23000 },                         #{ 'name': 'John','age': 21,'budget':23000 },{ 'name': 'Steve', 'age': 32, 'budget': 40000 },{ 'name': 'Martin','age': 16,'budget': 2700 }                         \n",
    "{ 'name': 'Martin','age': 16,'budget': 2700 },                       \n",
    "{ 'name': 'Steve', 'age': 32, 'budget': 40000 }]                           \n",
    "\n",
    "\n",
    "print(get_budgets(l))\n",
    "\n",
    "        \n",
    "        \n",
    "        "
   ]
  },
  {
   "cell_type": "code",
   "execution_count": 82,
   "metadata": {},
   "outputs": [
    {
     "name": "stdout",
     "output_type": "stream",
     "text": [
      "ehllo\n"
     ]
    }
   ],
   "source": [
    "#3\n",
    "\n",
    "def alphabet_soup(l):\n",
    "    x=sorted(l)\n",
    "    d=''.join(x)\n",
    "    return d\n",
    "    \n",
    "print('Reverse alphabetical order :',alphabet_soup('hello'))               #javascript,hacker,geek,edabit\n",
    " "
   ]
  },
  {
   "cell_type": "code",
   "execution_count": 87,
   "metadata": {},
   "outputs": [
    {
     "name": "stdout",
     "output_type": "stream",
     "text": [
      "Enter principal100000\n",
      "Enter Time period in years20\n",
      "Enter rate 0.15\n",
      "Mention the period per time period \n",
      "monthly =>12\n",
      "yearly =>1\n",
      "Weekly =>52\n",
      "Daily=>365 365\n",
      "2007316.26\n"
     ]
    }
   ],
   "source": [
    "#4\n",
    "def compound_intersest(p,t,r,n):\n",
    "    ci=p*((1+(r/n))**(n*t))\n",
    "    return ci\n",
    "p=int(input('Enter principal'))\n",
    "t=int(input('Enter Time period in years'))\n",
    "r=float(input('Enter rate '))\n",
    "n=int(input('Mention the period per time period \\nmonthly =>12\\nyearly =>1\\nWeekly =>52\\nDaily=>365 '))\n",
    "print(round(compound_intersest(p,t,r,n),2))                  #(100,1,0.05,1)  ,(3500,15,0.1,4),(100000,20,0.15,365)            "
   ]
  },
  {
   "cell_type": "code",
   "execution_count": null,
   "metadata": {},
   "outputs": [],
   "source": []
  }
 ],
 "metadata": {
  "kernelspec": {
   "display_name": "Python 3",
   "language": "python",
   "name": "python3"
  },
  "language_info": {
   "codemirror_mode": {
    "name": "ipython",
    "version": 3
   },
   "file_extension": ".py",
   "mimetype": "text/x-python",
   "name": "python",
   "nbconvert_exporter": "python",
   "pygments_lexer": "ipython3",
   "version": "3.8.3"
  }
 },
 "nbformat": 4,
 "nbformat_minor": 4
}
